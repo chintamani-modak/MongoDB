{
 "cells": [
  {
   "cell_type": "markdown",
   "id": "764abe38",
   "metadata": {},
   "source": [
    "### Problem statement\n",
    "\n",
    "The data is related to a coding platform that hosts coding challenges. They have a unique business model, where they crowdsource problems from various creators(authors). These authors create the problem and release it on the client's platform. The users then select the challenges they want to solve. \n",
    "\n",
    "This dataset contains information about each coding problem. It contains information about the problem, about the author who created it and a list of users who have attempted the problem.\n",
    "\n",
    "Below are the fields that can be founf within each document in the collection -\n",
    "\n",
    "- `challenge_id` - Unique id of the challenge problem\n",
    "\n",
    "- `programming_language` - Programming language for the challenge\n",
    "\n",
    "- `total_submissions` - Total submissions by all users\n",
    "\n",
    "- `publish_date` - Publishing date for the challenge\n",
    "\n",
    "- `author` - Embedded document about the author of the challenge.\n",
    "> - `id` - Author id\n",
    "> - `gender` - Author gender\n",
    "> - `org_id` - Organisation if for author\n",
    "\n",
    "- `users` - List of users who have attempted the challenge\n",
    "\n",
    "----"
   ]
  },
  {
   "cell_type": "markdown",
   "id": "f7ca3a2f",
   "metadata": {},
   "source": [
    "### Connecting to MongoDB\n",
    "\n",
    "\n",
    "----"
   ]
  },
  {
   "cell_type": "code",
   "execution_count": 1,
   "id": "e627b1ce",
   "metadata": {},
   "outputs": [],
   "source": [
    "# Importing the required libraries\n",
    "import pymongo\n",
    "import pprint as pp\n",
    "from pymongo import MongoClient\n",
    "\n",
    "pp.sorted = lambda x, key=None: x"
   ]
  },
  {
   "cell_type": "code",
   "execution_count": 2,
   "id": "a7ce215c",
   "metadata": {},
   "outputs": [],
   "source": [
    "client = pymongo.MongoClient(\"mongodb://localhost:27017/\")"
   ]
  },
  {
   "cell_type": "markdown",
   "id": "7a8757ec",
   "metadata": {},
   "source": [
    "---\n",
    "### Importing data\n",
    "\n",
    "----"
   ]
  },
  {
   "cell_type": "code",
   "execution_count": null,
   "id": "f5b6625a",
   "metadata": {},
   "outputs": [],
   "source": [
    "# # Restore database\n",
    "#!mongorestore -d assignment C:\\Users\\chintamani_modak\\Downloads\\querying_assignment\\querying_assignment\\challenge.bson"
   ]
  },
  {
   "cell_type": "code",
   "execution_count": 3,
   "id": "e1718c06",
   "metadata": {},
   "outputs": [],
   "source": [
    "db = client['exercise']"
   ]
  },
  {
   "cell_type": "code",
   "execution_count": 4,
   "id": "4a6ab2d7",
   "metadata": {},
   "outputs": [
    {
     "data": {
      "text/plain": [
       "['challenge']"
      ]
     },
     "execution_count": 4,
     "metadata": {},
     "output_type": "execute_result"
    }
   ],
   "source": [
    "db.list_collection_names()"
   ]
  },
  {
   "cell_type": "code",
   "execution_count": 49,
   "id": "b7a43f61",
   "metadata": {
    "scrolled": true
   },
   "outputs": [
    {
     "name": "stdout",
     "output_type": "stream",
     "text": [
      "{'_id': ObjectId('60dab9f75945974466d8d64d'),\n",
      " 'challenge_id': 'CI23478',\n",
      " 'programming_language': 2,\n",
      " 'total_submissions': 37,\n",
      " 'publish_date': datetime.datetime(2006, 6, 5, 0, 0),\n",
      " 'author': {'id': 'AI563576', 'gender': 'M', 'org_id': 'AOI100001'},\n",
      " 'users': [32876, 88820, 97150, 97359]}\n"
     ]
    }
   ],
   "source": [
    "pp.pprint(\n",
    "    db.challenge.find_one()\n",
    ")"
   ]
  },
  {
   "cell_type": "markdown",
   "id": "cd2bf8f2",
   "metadata": {},
   "source": [
    "---\n",
    "### Assignment Questions\n",
    "\n",
    "----"
   ]
  },
  {
   "cell_type": "markdown",
   "id": "2aa2c893",
   "metadata": {},
   "source": [
    "### Q1. \n",
    "\n",
    "Find the number of documents in the collection"
   ]
  },
  {
   "cell_type": "code",
   "execution_count": 50,
   "id": "c1f736fd",
   "metadata": {},
   "outputs": [
    {
     "name": "stdout",
     "output_type": "stream",
     "text": [
      "5606\n"
     ]
    }
   ],
   "source": [
    "# Enter your code here\n",
    "print(db.challenge.count_documents({}))"
   ]
  },
  {
   "cell_type": "markdown",
   "id": "a23326b4",
   "metadata": {},
   "source": [
    "### Q2. \n",
    "\n",
    "Find the number of unique `programming_language` and `challenge_id`"
   ]
  },
  {
   "cell_type": "code",
   "execution_count": 114,
   "id": "4778c967",
   "metadata": {
    "scrolled": true
   },
   "outputs": [
    {
     "name": "stdout",
     "output_type": "stream",
     "text": [
      "3\n",
      "5606\n"
     ]
    }
   ],
   "source": [
    "# Enter your code here\n",
    "print(len(list(db.challenge.distinct(\"programming_language\"))))\n",
    "print(len(list(db.challenge.distinct(\"challenge_id\"))))"
   ]
  },
  {
   "cell_type": "code",
   "execution_count": 43,
   "id": "648aa8cc",
   "metadata": {},
   "outputs": [
    {
     "name": "stdout",
     "output_type": "stream",
     "text": [
      "{'_id': 1, 'count': 5217}\n",
      "{'_id': 2, 'count': 319}\n",
      "{'_id': 3, 'count': 70}\n"
     ]
    }
   ],
   "source": [
    "res = db.challenge.aggregate([{\"$group\":{\"_id\":\"$programming_language\",\"count\":{\"$count\":{}}}}])\n",
    "for i in res:\n",
    "    print(i)"
   ]
  },
  {
   "cell_type": "markdown",
   "id": "45e9a678",
   "metadata": {},
   "source": [
    "### Q3. \n",
    "\n",
    "How many documents are there where the challenge was created between `2009-01-01` and `2010-01-01`? "
   ]
  },
  {
   "cell_type": "code",
   "execution_count": 71,
   "id": "6d9c25bd",
   "metadata": {},
   "outputs": [],
   "source": [
    "# Import datetime library\n",
    "from datetime import datetime"
   ]
  },
  {
   "cell_type": "code",
   "execution_count": 108,
   "id": "83314953",
   "metadata": {},
   "outputs": [
    {
     "name": "stdout",
     "output_type": "stream",
     "text": [
      "888\n"
     ]
    }
   ],
   "source": [
    "# Enter your code here\n",
    "print(db.challenge.count_documents({\"publish_date\":{\"$gte\":datetime(2009,1,1),\"$lte\":datetime(2010,1,1)}}))"
   ]
  },
  {
   "cell_type": "markdown",
   "id": "7607e32d",
   "metadata": {},
   "source": [
    "### Q4. \n",
    "\n",
    "How many challenges have been written by author `AI563576` in either `programming_language` `1` or `3` ?\n"
   ]
  },
  {
   "cell_type": "code",
   "execution_count": 107,
   "id": "89944bdf",
   "metadata": {},
   "outputs": [
    {
     "data": {
      "text/plain": [
       "41"
      ]
     },
     "execution_count": 107,
     "metadata": {},
     "output_type": "execute_result"
    }
   ],
   "source": [
    "# Enter your code here\n",
    "# Document where `limit` is either 1 or 3\n",
    "\n",
    "db.challenge.count_documents({\"$and\":[{\"author.id\": \"AI563576\"},{\"programming_language\":{\"$in\":[1,3]}}]})                       "
   ]
  },
  {
   "cell_type": "markdown",
   "id": "49d4abfd",
   "metadata": {},
   "source": [
    "### Q5. \n",
    "\n",
    "How many documents are there where the challenges have been created by a female author and where the author belong to either the 'AOI100013' organisation or the 'AOI100013' organisation?"
   ]
  },
  {
   "cell_type": "code",
   "execution_count": 105,
   "id": "5487564e",
   "metadata": {},
   "outputs": [
    {
     "data": {
      "text/plain": [
       "5"
      ]
     },
     "execution_count": 105,
     "metadata": {},
     "output_type": "execute_result"
    }
   ],
   "source": [
    "# Enter your code here\n",
    "db.challenge.count_documents({\"$and\": [{\"author.gender\": \"F\"},{\"$or\":[{\"author.org_id\": {\"$in\": [\"AOI100013\", \"AOI100014\"]}}]}]})"
   ]
  },
  {
   "cell_type": "markdown",
   "id": "d5a8c265",
   "metadata": {},
   "source": [
    "### Q6.\n",
    "\n",
    "Find the top 5 challenges where either the challenge has been attempted by exactly 100 `users` or where the `total_submissions` is between 100 and 200, both inclusive?"
   ]
  },
  {
   "cell_type": "code",
   "execution_count": 159,
   "id": "4725a2af",
   "metadata": {
    "scrolled": true
   },
   "outputs": [
    {
     "name": "stdout",
     "output_type": "stream",
     "text": [
      "{'_id': ObjectId('60dab9f85945974466d8e0a5'), 'challenge_id': 'CI26126', 'programming_language': 2, 'total_submissions': 200, 'publish_date': datetime.datetime(2008, 3, 29, 0, 0), 'total_number_of_users': 1003}\n",
      "{'_id': ObjectId('60dab9f85945974466d8dbf5'), 'challenge_id': 'CI24926', 'programming_language': 1, 'total_submissions': 200, 'publish_date': datetime.datetime(2007, 3, 7, 0, 0), 'total_number_of_users': 374}\n",
      "{'_id': ObjectId('60dab9f75945974466d8d75e'), 'challenge_id': 'CI23751', 'programming_language': 1, 'total_submissions': 200, 'publish_date': datetime.datetime(2006, 4, 10, 0, 0), 'total_number_of_users': 115}\n",
      "{'_id': ObjectId('60dab9f85945974466d8e0aa'), 'challenge_id': 'CI26131', 'programming_language': 1, 'total_submissions': 199, 'publish_date': datetime.datetime(2008, 3, 26, 0, 0), 'total_number_of_users': 2820}\n",
      "{'_id': ObjectId('60dab9f95945974466d8e614'), 'challenge_id': 'CI27535', 'programming_language': 1, 'total_submissions': 198, 'publish_date': datetime.datetime(2008, 12, 13, 0, 0), 'total_number_of_users': 695}\n"
     ]
    }
   ],
   "source": [
    "#Enter your code here\n",
    "#print(db.challenge.find_one({\"users\":{\"$eq\":88820}}))\n",
    "result = db.challenge.aggregate([\n",
    "    {\"$match\":{\n",
    "        \"users\":{\"$ne\":\"None\"}\n",
    "    }},\n",
    "    {\"$project\":{\n",
    "        \"_id\":1,\"challenge_id\":1,\"programming_language\":1,'total_submissions':1,\"publish_date\":1,'total_number_of_users':{\"$size\":\"$users\"}\n",
    "    }\n",
    "    },\n",
    "    {\"$match\":{\"$or\":[\n",
    "        {\"total_number_of_users\":{\"$gte\":100},\n",
    "        \"$and\":[{\"total_submissions\":{\"$gte\":100}},{\"total_submissions\":{\"$lte\":200}}]\n",
    "        }\n",
    "    ]}},\n",
    "    {\"$sort\":{\n",
    "        \"total_submissions\":-1,\"total_number_of_users\":-1\n",
    "    }},\n",
    "    {\"$limit\":5}\n",
    "])\n",
    "#result = db.challenge.aggregate([{\"$project\":{'array_length':{\"$size\":\"$users\"}}}])\n",
    "#result = db.challenge.aggregate([{\"$project\":{\"_id\":0,'total_submissions':1,\"users\":1,'array_length':{\"$size\":\"$users\"}}},{\"$sort\":{\"array_length\":1}},{\"$limit\":5}])\n",
    "for i in result:\n",
    "    print(i)"
   ]
  },
  {
   "cell_type": "markdown",
   "id": "6ce7e01c",
   "metadata": {},
   "source": [
    "### Q7. \n",
    "\n",
    "How documents are there where either the `publish_date > 2010-01-01` and `total_submissions > 100`, or the `publish_date < 2000-01-01` and `total_submissions > 1000` ?"
   ]
  },
  {
   "cell_type": "code",
   "execution_count": 72,
   "id": "46940242",
   "metadata": {},
   "outputs": [
    {
     "name": "stdout",
     "output_type": "stream",
     "text": [
      "12\n"
     ]
    }
   ],
   "source": [
    "# Enter your code here\n",
    "print(db.challenge.count_documents({\"$and\": [{\"publish_date\":{\"$gt\":datetime(2010,1,1)}},{\"total_submissions\":{\"$gt\":100}}]}))"
   ]
  },
  {
   "cell_type": "code",
   "execution_count": 73,
   "id": "f6610d2d",
   "metadata": {},
   "outputs": [
    {
     "name": "stdout",
     "output_type": "stream",
     "text": [
      "33\n"
     ]
    }
   ],
   "source": [
    "print(db.challenge.count_documents({\"$and\": [{\"publish_date\":{\"$lt\":datetime(2000,1,1)}},{\"total_submissions\":{\"$gt\":1000}}]}))"
   ]
  },
  {
   "cell_type": "code",
   "execution_count": 104,
   "id": "ea917a7d",
   "metadata": {},
   "outputs": [
    {
     "name": "stdout",
     "output_type": "stream",
     "text": [
      "45\n"
     ]
    }
   ],
   "source": [
    "print(db.challenge.count_documents({\"$or\":[{\"$and\": [{\"publish_date\":{\"$gt\":datetime(2010,1,1)}},{\"total_submissions\":{\"$gt\":100}}]},{\"$and\": [{\"publish_date\":{\"$lt\":datetime(2000,1,1)}},{\"total_submissions\":{\"$gt\":1000}}]}]}))"
   ]
  },
  {
   "cell_type": "code",
   "execution_count": null,
   "id": "1dfc6aa6",
   "metadata": {},
   "outputs": [],
   "source": []
  }
 ],
 "metadata": {
  "kernelspec": {
   "display_name": "Python 3 (ipykernel)",
   "language": "python",
   "name": "python3"
  },
  "language_info": {
   "codemirror_mode": {
    "name": "ipython",
    "version": 3
   },
   "file_extension": ".py",
   "mimetype": "text/x-python",
   "name": "python",
   "nbconvert_exporter": "python",
   "pygments_lexer": "ipython3",
   "version": "3.9.13"
  }
 },
 "nbformat": 4,
 "nbformat_minor": 5
}
