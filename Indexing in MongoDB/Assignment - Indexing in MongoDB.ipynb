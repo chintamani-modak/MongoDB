{
 "cells": [
  {
   "cell_type": "markdown",
   "id": "brave-southeast",
   "metadata": {},
   "source": [
    "### Problem Statement\n",
    "\n",
    "The data is originally taken from the [NYC Open Data website](https://opendata.cityofnewyork.us/) and contains data related to park events in the New York City area.\n",
    "\n",
    "The data provided here contain two collections - **events** and **neighbourhoods**.\n",
    "\n",
    "**events** collection documents have the following fields - \n",
    "\n",
    "- `event_id` - Unique event id\n",
    "\n",
    "- `title` - Name of the event\n",
    "\n",
    "- `start_date_time` - The start date and time of the event\n",
    "\n",
    "- `end_date_time` - The end date and time of the event\n",
    "\n",
    "- `snippet` - A brief description of the event\n",
    "\n",
    "- `cost_free` - Indicating whether an event is free (0) or not (1)\n",
    "\n",
    "- `must_see` - Indicates if event should be featured on Parks website with \"Must See\" banner. 0 if event is not featured and 1 if event is featured.\n",
    "\n",
    "- `location_name` - Location name where event takes place\n",
    "\n",
    "- `location` - Longitude and latitude of the location of event\n",
    "\n",
    "\n",
    "**neighbourhoods** collection documents have the following fields -\n",
    "\n",
    "- `properties` - Embedded document containing information related to the neighbourhood\n",
    "\n",
    ">- `ntacode` - Neighbourhood code\n",
    ">- `ntaname` - Neighbourhood name\n",
    ">- `boro_code` - Code of borough in which neighbourhood falls\n",
    ">- `boro_name` - name of borough in which neighbourhood falls\n",
    "\n",
    "- `geometry` - GEOJSON object containing coordinates of boundary of the neighbourhood \n",
    "\n",
    "\n",
    "\n",
    "----\n",
    "\n",
    "*The data for **events** collection has been originally taken from - https://data.cityofnewyork.us/browse?Data-Collection_Data-Collection=NYC+Parks+Events&sortBy=most_accessed&utf8=%E2%9C%93*\n",
    "\n",
    "*The data for **neighbourhoods** collectio has been originally taken from - https://data.cityofnewyork.us/City-Government/Neighborhood-Tabulation-Areas-NTA-/cpf4-rkhq*\n",
    "\n",
    "\n",
    "----"
   ]
  },
  {
   "cell_type": "markdown",
   "id": "undefined-communications",
   "metadata": {},
   "source": [
    "### Connecting to MongoDB\n",
    "\n",
    "\n",
    "----"
   ]
  },
  {
   "cell_type": "code",
   "execution_count": 1,
   "id": "rocky-picking",
   "metadata": {},
   "outputs": [],
   "source": [
    "# Importing the required libraries\n",
    "import pymongo\n",
    "import pprint as pp\n",
    "\n",
    "pp.sorted = lambda x, key=None: x"
   ]
  },
  {
   "cell_type": "code",
   "execution_count": 2,
   "id": "minus-production",
   "metadata": {},
   "outputs": [],
   "source": [
    "client = pymongo.MongoClient(\"mongodb://localhost:27017/\")"
   ]
  },
  {
   "cell_type": "markdown",
   "id": "raising-wallet",
   "metadata": {},
   "source": [
    "---\n",
    "### Importing data\n",
    "\n",
    "----"
   ]
  },
  {
   "cell_type": "code",
   "execution_count": 3,
   "id": "cross-exploration",
   "metadata": {},
   "outputs": [],
   "source": [
    "# # Restore database\n",
    "# !mongorestore /home/avadmin/Desktop/Mongo/Content/Indexing/Assignment/Data/indexing_assignment"
   ]
  },
  {
   "cell_type": "code",
   "execution_count": 3,
   "id": "armed-repository",
   "metadata": {},
   "outputs": [],
   "source": [
    "# Data\n",
    "db = client['events']"
   ]
  },
  {
   "cell_type": "code",
   "execution_count": 4,
   "id": "confused-ordering",
   "metadata": {},
   "outputs": [
    {
     "data": {
      "text/plain": [
       "['neighbourhoods', 'events']"
      ]
     },
     "execution_count": 4,
     "metadata": {},
     "output_type": "execute_result"
    }
   ],
   "source": [
    "# List collections\n",
    "db.list_collection_names()"
   ]
  },
  {
   "cell_type": "code",
   "execution_count": 5,
   "id": "instructional-lying",
   "metadata": {},
   "outputs": [
    {
     "name": "stdout",
     "output_type": "stream",
     "text": [
      "{'_id': ObjectId('60d9cb7310d0be7a77638579'),\n",
      " 'event_id': 173635,\n",
      " 'title': 'Central Park Tour: Iconic Views of Central Park',\n",
      " 'start_date_time': datetime.datetime(2018, 10, 21, 11, 0),\n",
      " 'end_date_time': datetime.datetime(2018, 10, 21, 12, 30),\n",
      " 'snippet': 'Some of New York’s most iconic sights are found in Central Park, '\n",
      "            'including the fountain at Bethesda Terrace and Bow Bridge. Join '\n",
      "            'Central Park Conservancy guides for an insider’s look.',\n",
      " 'cost_free': 0,\n",
      " 'must_see': 0,\n",
      " 'location_name': 'Dairy Visitor Center & Gift Shop',\n",
      " 'location': {'type': 'Point',\n",
      "              'coordinates': [-73.973614931107, 40.769109102536]}}\n"
     ]
    }
   ],
   "source": [
    "# Sample document\n",
    "pp.pprint(\n",
    "    db.events.find_one()\n",
    ")"
   ]
  },
  {
   "cell_type": "code",
   "execution_count": 6,
   "id": "considered-criterion",
   "metadata": {},
   "outputs": [
    {
     "name": "stdout",
     "output_type": "stream",
     "text": [
      "{'_id': ObjectId('60d9d8036fa8d9e558634f2c'),\n",
      " 'properties': {'ntacode': 'BK88',\n",
      "                'ntaname': 'Borough Park',\n",
      "                'boro_name': 'Brooklyn',\n",
      "                'boro_code': '3'},\n",
      " 'geometry': {'type': 'MultiPolygon',\n",
      "              'coordinates': [[[[-73.97604935657381, 40.631275905646774],\n",
      "                                [-73.97716511994669, 40.63074665412933],\n",
      "                                [-73.97699848928193, 40.629871496125375],\n",
      "                                [-73.9768496430902, 40.6290885814784],\n",
      "                                [-73.97669604371914, 40.628354564208756],\n",
      "                                [-73.97657775689153, 40.62757318681896],\n",
      "                                [-73.9765146210018, 40.627294490493874],\n",
      "                                [-73.97644970441577, 40.627008255472994],\n",
      "                                [-73.97623453682755, 40.625976350730234],\n",
      "                                [-73.97726150032737, 40.6258527728136],\n",
      "                                [-73.97719665645002, 40.62510197855896],\n",
      "                                [-73.97710959292857, 40.624948259691514],\n",
      "                                [-73.97694382374165, 40.624052750014684],\n",
      "                                [-73.9768346520651, 40.62348104194568],\n",
      "                                [-73.97675209645574, 40.623013312325725],\n",
      "                                [-73.97656583927008, 40.6219949031937],\n",
      "                                [-73.97695070814679, 40.62163000717454],\n",
      "                                [-73.97705352864567, 40.6215325218076],\n",
      "                                [-73.97539380523678, 40.62076998723733],\n",
      "                                [-73.97682433557303, 40.61867580015917],\n",
      "                                [-73.97752301889588, 40.61767654076734],\n",
      "                                [-73.97785009338085, 40.6172876067946],\n",
      "                                [-73.97562954146068, 40.61594539066695],\n",
      "                                [-73.97537335532121, 40.6157547223824],\n",
      "                                [-73.97544276701358, 40.61611409035504],\n",
      "                                [-73.97548096980243, 40.616311925144196],\n",
      "                                [-73.97444328442452, 40.6164216434621],\n",
      "                                [-73.97335879350746, 40.6165417152966],\n",
      "                                [-73.97290326943272, 40.6141529683845],\n",
      "                                [-73.97399319461375, 40.61402989424251],\n",
      "                                [-73.97517176991693, 40.614724185881045],\n",
      "                                [-73.97497264664409, 40.6136681101718],\n",
      "                                [-73.97489295756654, 40.61318636841404],\n",
      "                                [-73.97477657974535, 40.61263847492684],\n",
      "                                [-73.97520829413772, 40.6128852582153],\n",
      "                                [-73.9774081645899, 40.614218112990294],\n",
      "                                [-73.97963821772845, 40.61556454722805],\n",
      "                                [-73.98003930358351, 40.61580692966757],\n",
      "                                [-73.9808791278371, 40.616314434788244],\n",
      "                                [-73.98186818243128, 40.61691212660382],\n",
      "                                [-73.9840679176659, 40.618240739302685],\n",
      "                                [-73.98627524709667, 40.619566616589694],\n",
      "                                [-73.98569357824182, 40.620131514447586],\n",
      "                                [-73.9878509553418, 40.62143503244062],\n",
      "                                [-73.99009356051286, 40.62278895334304],\n",
      "                                [-73.99254973616581, 40.62427426877921],\n",
      "                                [-73.99398197149371, 40.62514139905055],\n",
      "                                [-73.99432497413301, 40.62534290879742],\n",
      "                                [-73.99489280561376, 40.6254617941917],\n",
      "                                [-73.99473485679263, 40.62561474060342],\n",
      "                                [-73.99464972974172, 40.62569717922155],\n",
      "                                [-73.99507814869848, 40.6258067378371],\n",
      "                                [-73.99678847531307, 40.62682605141273],\n",
      "                                [-73.99687778353756, 40.626530782562355],\n",
      "                                [-73.99701633648009, 40.626061615450624],\n",
      "                                [-73.9972406703973, 40.62528868702803],\n",
      "                                [-73.99811614328407, 40.62581570660958],\n",
      "                                [-74.00031369476771, 40.62714458259374],\n",
      "                                [-74.00251454806298, 40.62847420956256],\n",
      "                                [-74.00222793396246, 40.62875116964375],\n",
      "                                [-74.00193011441125, 40.62903276789135],\n",
      "                                [-74.00306154030783, 40.629715175404556],\n",
      "                                [-74.00368597245085, 40.6300917810278],\n",
      "                                [-74.00413727968571, 40.63036396583654],\n",
      "                                [-74.00633870652992, 40.63169362668358],\n",
      "                                [-74.00702302486354, 40.63210999547638],\n",
      "                                [-74.00680677851517, 40.632250391235324],\n",
      "                                [-74.0066191489384, 40.632375458589486],\n",
      "                                [-74.00630615538653, 40.632584088964876],\n",
      "                                [-74.00556490326193, 40.63308317691681],\n",
      "                                [-74.00735636597027, 40.634163627239026],\n",
      "                                [-74.00675122718057, 40.634744787032226],\n",
      "                                [-74.00641784617844, 40.63506485045552],\n",
      "                                [-74.00616926805155, 40.63530350191607],\n",
      "                                [-74.00558613003881, 40.63586622903329],\n",
      "                                [-74.00500346527619, 40.63642523568013],\n",
      "                                [-74.00442048314353, 40.636984986361725],\n",
      "                                [-74.00411104019123, 40.637282961505036],\n",
      "                                [-74.00383793090822, 40.637545931867386],\n",
      "                                [-74.00325273129657, 40.638104262022885],\n",
      "                                [-74.00267214342665, 40.63866701097257],\n",
      "                                [-74.00236943480249, 40.63895767781394],\n",
      "                                [-74.0020907543513, 40.6392252543082],\n",
      "                                [-74.00150771254626, 40.6397849620733],\n",
      "                                [-74.00092541773434, 40.64034590202875],\n",
      "                                [-74.00066078114669, 40.640599309703894],\n",
      "                                [-74.00034122066634, 40.64090531617318],\n",
      "                                [-73.99975690844894, 40.64146714994333],\n",
      "                                [-73.9991756471891, 40.642025442029095],\n",
      "                                [-73.99697357409411, 40.64069410459458],\n",
      "                                [-73.99551033696265, 40.63980966763261],\n",
      "                                [-73.99479539473393, 40.640288487886956],\n",
      "                                [-73.99433124126965, 40.64060028845549],\n",
      "                                [-73.99407692009133, 40.64077040176035],\n",
      "                                [-73.9933625360505, 40.641247798977965],\n",
      "                                [-73.9926445605762, 40.641728290946446],\n",
      "                                [-73.99192812375547, 40.64220490458869],\n",
      "                                [-73.99121277380051, 40.64268589050532],\n",
      "                                [-73.99049634082614, 40.64316444118841],\n",
      "                                [-73.98977890274068, 40.643644887233535],\n",
      "                                [-73.98905872393608, 40.64411924103919],\n",
      "                                [-73.98834986671028, 40.64456224388724],\n",
      "                                [-73.98749940592022, 40.64404551035482],\n",
      "                                [-73.98673080569073, 40.64357399370719],\n",
      "                                [-73.985896444915, 40.64306759533013],\n",
      "                                [-73.98509519639006, 40.64257305584113],\n",
      "                                [-73.984587194825, 40.6422620045726],\n",
      "                                [-73.98430293143333, 40.64208456309331],\n",
      "                                [-73.98331628452111, 40.6414786828331],\n",
      "                                [-73.98299419241442, 40.6413249968491],\n",
      "                                [-73.98244454219795, 40.64153862556193],\n",
      "                                [-73.98204321765255, 40.6417075820055],\n",
      "                                [-73.98123240501364, 40.6420449138903],\n",
      "                                [-73.98042057821881, 40.64238522690571],\n",
      "                                [-73.98007428494853, 40.64053969984795],\n",
      "                                [-73.98000693002487, 40.6402088377546],\n",
      "                                [-73.97990983138484, 40.63968635791175],\n",
      "                                [-73.97987360298706, 40.639518205950424],\n",
      "                                [-73.9796770495655, 40.63846479981803],\n",
      "                                [-73.97955441162159, 40.63781925969067],\n",
      "                                [-73.97947592089827, 40.63743136398443],\n",
      "                                [-73.97938644718404, 40.63693216348757],\n",
      "                                [-73.97928591736762, 40.636414194191275],\n",
      "                                [-73.9791118873775, 40.63544038643938],\n",
      "                                [-73.97802158944135, 40.63555270290523],\n",
      "                                [-73.9768886114649, 40.635674862028225],\n",
      "                                [-73.97663656021153, 40.63435382127075],\n",
      "                                [-73.97655064148618, 40.633903509144076],\n",
      "                                [-73.97643342179832, 40.63328912259067],\n",
      "                                [-73.97604935657381, 40.631275905646774]]]]}}\n"
     ]
    }
   ],
   "source": [
    "# Sample document\n",
    "pp.pprint(\n",
    "    db.neighbourhoods.find_one()\n",
    ")"
   ]
  },
  {
   "cell_type": "markdown",
   "id": "brilliant-giant",
   "metadata": {},
   "source": [
    "----\n",
    "### Assignment Questions\n",
    "\n",
    "\n",
    "Note - View all queries before attempting the questions. Use proper indexing to answer the questions.\n",
    "\n",
    "----"
   ]
  },
  {
   "cell_type": "markdown",
   "id": "antique-lebanon",
   "metadata": {},
   "source": [
    "### Q1\n",
    "\n",
    "How many events were `must see events`?"
   ]
  },
  {
   "cell_type": "code",
   "execution_count": 10,
   "id": "least-skiing",
   "metadata": {},
   "outputs": [
    {
     "data": {
      "text/plain": [
       "4360"
      ]
     },
     "execution_count": 10,
     "metadata": {},
     "output_type": "execute_result"
    }
   ],
   "source": [
    "# Enter your code here\n",
    "db.events.count_documents({\"must_see\":{\"$eq\":1}})"
   ]
  },
  {
   "cell_type": "markdown",
   "id": "opening-colonial",
   "metadata": {},
   "source": [
    "### Q2\n",
    "\n",
    "How `many events` were must see as well as `cost free`?"
   ]
  },
  {
   "cell_type": "code",
   "execution_count": 11,
   "id": "expensive-dance",
   "metadata": {
    "scrolled": true
   },
   "outputs": [
    {
     "data": {
      "text/plain": [
       "3643"
      ]
     },
     "execution_count": 11,
     "metadata": {},
     "output_type": "execute_result"
    }
   ],
   "source": [
    "# Enter your code here\n",
    "db.events.count_documents({\"$and\":[{\"must_see\":{\"$eq\":1}},{\"cost_free\":{\"$eq\":1}}]})"
   ]
  },
  {
   "cell_type": "markdown",
   "id": "growing-championship",
   "metadata": {},
   "source": [
    "### Q3\n",
    "\n",
    "How many `must see and cost free events` were held after `2018-01-01`?"
   ]
  },
  {
   "cell_type": "code",
   "execution_count": 87,
   "id": "2747f749",
   "metadata": {
    "scrolled": true
   },
   "outputs": [
    {
     "data": {
      "text/plain": [
       "'start_date_time_1'"
      ]
     },
     "execution_count": 87,
     "metadata": {},
     "output_type": "execute_result"
    }
   ],
   "source": [
    "db.events.create_index('start_date_time')"
   ]
  },
  {
   "cell_type": "code",
   "execution_count": 13,
   "id": "0e8d671b",
   "metadata": {},
   "outputs": [],
   "source": [
    "from datetime import datetime"
   ]
  },
  {
   "cell_type": "code",
   "execution_count": 88,
   "id": "brilliant-license",
   "metadata": {
    "scrolled": true
   },
   "outputs": [
    {
     "data": {
      "text/plain": [
       "597"
      ]
     },
     "execution_count": 88,
     "metadata": {},
     "output_type": "execute_result"
    }
   ],
   "source": [
    "# Enter your code here\n",
    "db.events.count_documents({\"$and\":[{\"must_see\":{\"$eq\":1}},{\"cost_free\":{\"$eq\":1}},{\"start_date_time\":{\"$gt\":datetime(2018,1,1)}}]})"
   ]
  },
  {
   "cell_type": "markdown",
   "id": "spoken-league",
   "metadata": {},
   "source": [
    "### Q4\n",
    "\n",
    "How many indexes did you use to answer the above queries? List the index keys for each index used."
   ]
  },
  {
   "cell_type": "code",
   "execution_count": 11,
   "id": "banned-theorem",
   "metadata": {},
   "outputs": [],
   "source": [
    "# Answer\n",
    "1 index created on start_date_time\n",
    "Key - start_date_time_1\n"
   ]
  },
  {
   "cell_type": "markdown",
   "id": "compliant-physiology",
   "metadata": {},
   "source": [
    "### Q5\n",
    "\n",
    "What was the combined size of all the index created for the above queries?"
   ]
  },
  {
   "cell_type": "code",
   "execution_count": 12,
   "id": "strong-wright",
   "metadata": {},
   "outputs": [],
   "source": [
    "# Answer"
   ]
  },
  {
   "cell_type": "markdown",
   "id": "extensive-litigation",
   "metadata": {},
   "source": [
    "### Q6\n",
    "\n",
    "How many events have the exact term `\"Central Park\" but not the term \"Tour\"` in the `title` field? \n",
    "\n",
    "***Hint - You will need to create a text index here.***"
   ]
  },
  {
   "cell_type": "code",
   "execution_count": 33,
   "id": "convinced-mediterranean",
   "metadata": {},
   "outputs": [
    {
     "data": {
      "text/plain": [
       "18250"
      ]
     },
     "execution_count": 33,
     "metadata": {},
     "output_type": "execute_result"
    }
   ],
   "source": [
    "# Enter your code here\n",
    "#1st line is to  create an index on the text field ... once index gets created this doesnt need to be executed\n",
    "#db.events.create_index([('title', 'text')],default_language =\"english\")\n",
    "db.events.count_documents({\"$text\": {\"$search\": \"Central Park -Tour\"}})"
   ]
  },
  {
   "cell_type": "markdown",
   "id": "ethical-laugh",
   "metadata": {},
   "source": [
    "### Q7\n",
    "\n",
    "How many events were held in `Williamsburg` neighbourhood of `Brooklyn` borough?\n",
    "\n",
    "***Hint - Create geospatial index for this query. Use the `neighbourhoods` collection for geometry of the neighbourhood. Query on the `ntaname` and `boro_name` fields.***"
   ]
  },
  {
   "cell_type": "code",
   "execution_count": 44,
   "id": "bafcc341",
   "metadata": {},
   "outputs": [
    {
     "data": {
      "text/plain": [
       "'geometry_2dsphere'"
      ]
     },
     "execution_count": 44,
     "metadata": {},
     "output_type": "execute_result"
    }
   ],
   "source": [
    "db.neighbourhoods.create_index([(\"geometry\",pymongo.GEOSPHERE)])"
   ]
  },
  {
   "cell_type": "code",
   "execution_count": 91,
   "id": "european-adjustment",
   "metadata": {},
   "outputs": [
    {
     "data": {
      "text/plain": [
       "0"
      ]
     },
     "execution_count": 91,
     "metadata": {},
     "output_type": "execute_result"
    }
   ],
   "source": [
    "# Enter your code here\n",
    "db.neighbourhoods.count_documents({\"$and\": [{\"properties\":{\"ntaname\":\"Williamsburg\"}},{\"properties\":{\"boro_name\":\"Brooklyn\"}}]})\n"
   ]
  },
  {
   "cell_type": "markdown",
   "id": "amino-grammar",
   "metadata": {},
   "source": [
    "### Q8\n",
    "\n",
    "Name the title of the `paid and must see events` that are located maximum `500 meters` from the `Brooklyn Museum (coordinates = [-73.9636, 40.6712])` after `2018-06-06`."
   ]
  },
  {
   "cell_type": "code",
   "execution_count": 97,
   "id": "bearing-gamma",
   "metadata": {},
   "outputs": [
    {
     "name": "stdout",
     "output_type": "stream",
     "text": [
      "{'title': 'Taste of the Valley Food Festival'}\n",
      "{'title': \"'Dearly Beloved': 1845 Wedding Reenactment and Reception\"}\n",
      "{'title': 'Annual Pug Fun Day'}\n",
      "{'title': 'Music in the Garden: Zikrayat'}\n",
      "{'title': 'THE B/R Football X Steve Nash Foundation Showdown FanFest'}\n",
      "{'title': \"Learn to Sail with TASCA's Basic Sailing Program: Summer Session\"}\n",
      "{'title': 'Bronx Food and Farm Walking Tours: Belmont Community Gardens'}\n",
      "{'title': \"Historic Richmond Town's Independence Day Celebration\"}\n",
      "{'title': 'Farm & Compost Tour'}\n",
      "{'title': 'Thunderbird 40th Annual Grand Mid-Summer Pow Wow'}\n",
      "{'title': 'Thunderbird 40th Annual Grand Mid-Summer Pow Wow'}\n",
      "{'title': 'Thunderbird 40th Annual Grand Mid-Summer Pow Wow'}\n",
      "{'title': 'An In-Depth Look at Art Deco on the Upper Grand Concourse - Walking Tour'}\n",
      "{'title': \"Music in the Garden: Women's Raga Massive\"}\n",
      "{'title': \"A 'Spirited' Summer Saunter with Boroughs of the Dead\"}\n",
      "{'title': 'Snug Harbor Art & Architecture Tour'}\n",
      "{'title': 'Battle of Brooklyn and Beyond Military History Tour'}\n",
      "{'title': 'Little Cooks: Undersea BBQ (Age 5-7)'}\n",
      "{'title': 'A Taste of Revolution at the Green-Wood Cemetery'}\n",
      "{'title': 'Opening Day: Herbaria'}\n",
      "{'title': 'Fish, Brew and BBQ'}\n",
      "{'title': \"Historic Richmond Town's 39th Annual Richmond County Fair!\"}\n",
      "{'title': \"Historic Richmond Town's 39th Annual Richmond County Fair!\"}\n",
      "{'title': \"Historic Richmond Town's 39th Annual Richmond County Fair!\"}\n",
      "{'title': \"Historic Richmond Town's 39th Annual Richmond County Fair!\"}\n",
      "{'title': 'Performing Arts Salon Saturdays: Phys. Ed. B'}\n",
      "{'title': 'Paranormal Investigation'}\n",
      "{'title': 'Van Cortlandt House Museum History and Culture Fair'}\n",
      "{'title': '36th Annual Queens County Fair & The Amazing Maize Maze'}\n",
      "{'title': '36th Annual Queens County Fair & The Amazing Maize Maze'}\n",
      "{'title': 'Autumn Moon Festival'}\n",
      "{'title': '36th Annual Queens County Fair & The Amazing Maize Maze'}\n",
      "{'title': 'Falconry Presentation: Skyhunters in Flight'}\n",
      "{'title': 'Maze By Moonlight'}\n",
      "{'title': 'Maze By Moonlight'}\n",
      "{'title': \"'Sacred to the Memory': 1865 Funeral Reenactment\"}\n",
      "{'title': 'Maze By Moonlight'}\n",
      "{'title': 'Old Home Day'}\n",
      "{'title': 'Open Baking Day at the Old Stone House'}\n",
      "{'title': 'Spellbound Theatre Presents: Up and Down Again'}\n",
      "{'title': 'CANCELLED: Run the River 5K'}\n",
      "{'title': 'Alice Austen House: Archtober Building of the Day'}\n",
      "{'title': 'Halloween Costume Contest and Mini Parade — Pizza, Pumpkins, Princesses and Pirates!'}\n",
      "{'title': 'Fall Fireside Feast'}\n",
      "{'title': 'TCS New York City Marathon'}\n",
      "{'title': 'Fall Foliage Walk'}\n",
      "{'title': 'Fall Flat 5K Trail Race'}\n",
      "{'title': 'Cooking Workshop: Perfect Pumpkin Pie'}\n",
      "{'title': 'Zero-Waste Thanksgiving'}\n",
      "{'title': 'Thunderbird American Indian Dancers Performance'}\n",
      "{'title': 'Sinterklass – Saint Nicholas Day'}\n",
      "{'title': 'Dandy Wellington and his Band'}\n",
      "{'title': \"'Erasures' Exhibition Opening\"}\n"
     ]
    }
   ],
   "source": [
    "# Enter your code here\n",
    "result = db.events.aggregate([\n",
    "    {\"$match\":{\"$and\":[{'location':{\"$geoWithin\":{\"$centerSphere\":[[-73.9636,40.6712],500]}}},{\"must_see\":1},{\"cost_free\":0},{\"start_date_time\":{\"$gt\":datetime(2018,6,6)}}]}\n",
    "    },\n",
    "    {\"$project\":{'title':1,\"_id\":0}}\n",
    "])\n",
    "for i in result:\n",
    "    print(i)"
   ]
  },
  {
   "cell_type": "code",
   "execution_count": null,
   "id": "84bc8199",
   "metadata": {},
   "outputs": [],
   "source": []
  }
 ],
 "metadata": {
  "kernelspec": {
   "display_name": "Python 3",
   "language": "python",
   "name": "python3"
  },
  "language_info": {
   "codemirror_mode": {
    "name": "ipython",
    "version": 3
   },
   "file_extension": ".py",
   "mimetype": "text/x-python",
   "name": "python",
   "nbconvert_exporter": "python",
   "pygments_lexer": "ipython3",
   "version": "3.8.8"
  }
 },
 "nbformat": 4,
 "nbformat_minor": 5
}
